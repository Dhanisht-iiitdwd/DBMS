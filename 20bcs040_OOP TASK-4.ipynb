{
  "nbformat": 4,
  "nbformat_minor": 0,
  "metadata": {
    "colab": {
      "name": "Untitled9.ipynb",
      "provenance": [],
      "authorship_tag": "ABX9TyPSXBZx2GOigC7pg0/otg+a",
      "include_colab_link": true
    },
    "kernelspec": {
      "name": "python3",
      "display_name": "Python 3"
    },
    "language_info": {
      "name": "python"
    }
  },
  "cells": [
    {
      "cell_type": "markdown",
      "metadata": {
        "id": "view-in-github",
        "colab_type": "text"
      },
      "source": [
        "<a href=\"https://colab.research.google.com/github/Dhanisht-iiitdwd/OOP_Python-class/blob/main/20bcs040_OOP%20TASK-4.ipynb\" target=\"_parent\"><img src=\"https://colab.research.google.com/assets/colab-badge.svg\" alt=\"Open In Colab\"/></a>"
      ]
    },
    {
      "cell_type": "code",
      "metadata": {
        "colab": {
          "base_uri": "https://localhost:8080/"
        },
        "id": "jSn_6nPy2iqo",
        "outputId": "3731d394-2d38-4e92-c9d8-f533fe42829e"
      },
      "source": [
        "###Problem-1\n",
        "class node:\n",
        "  # address of next node as a parametre\n",
        "  def __init__(self, addr_nn):\n",
        "    self.addr_nn=addr_nn\n",
        "    print(self.addr__nn)\n",
        "class Stack(node):\n",
        "     def __init__(self):\n",
        "         self.items = []\n",
        "\n",
        "     def isEmpty(self):\n",
        "         return self.items == []\n",
        "\n",
        "     def push(self, item):\n",
        "         self.items.append(item)\n",
        "\n",
        "     def pop(self):\n",
        "         return self.items.pop()\n",
        "\n",
        "     def peek(self):\n",
        "         return self.items[len(self.items)-1]\n",
        "\n",
        "     def size(self):\n",
        "         return len(self.items)\n",
        "addr_nn=\"0x0012\"\n",
        "s=Stack()\n",
        "\n",
        "print(s.isEmpty())\n",
        "s.push(4)\n",
        "s.push('Dhan')\n",
        "print(s.peek())\n",
        "s.push(True)\n",
        "print(s.size())\n",
        "print(s.isEmpty())\n",
        "s.push(8.4)\n",
        "print(s.pop())\n",
        "print(s.pop())\n",
        "print(s.size())\n",
        "print(addr_nn)\n",
        "\n"
      ],
      "execution_count": 6,
      "outputs": [
        {
          "output_type": "stream",
          "name": "stdout",
          "text": [
            "True\n",
            "Dhan\n",
            "3\n",
            "False\n",
            "8.4\n",
            "True\n",
            "2\n",
            "0x0012\n"
          ]
        }
      ]
    },
    {
      "cell_type": "code",
      "metadata": {
        "colab": {
          "base_uri": "https://localhost:8080/"
        },
        "id": "o2861gWA4ze1",
        "outputId": "e7cfa014-e3ad-4e7b-f8ba-c417d3695192"
      },
      "source": [
        "###Problem-2_a\n",
        "class Area_Rec:\n",
        "  def __init__(self, len, bredth): # with Parameterised constructor\n",
        "    self.len=len\n",
        "    self.bredth=bredth\n",
        "    if (self.len > self.bredth):\n",
        "      area=self.len * self.bredth\n",
        "      print(\"area =\",area)\n",
        "    else:\n",
        "      print(\"its not a rectangle\")\n",
        "len= int(input(\"enter the lenth : \"))\n",
        "bredth= int(input(\"enter the bredth : \"))\n",
        "rec=Area_Rec(len, bredth) # creating an instant of class 'Area_Rec'... with two parameter\n"
      ],
      "execution_count": 16,
      "outputs": [
        {
          "output_type": "stream",
          "name": "stdout",
          "text": [
            "enter the lenth : 6\n",
            "enter the bredth : 4\n",
            "area = 24\n"
          ]
        }
      ]
    },
    {
      "cell_type": "code",
      "metadata": {
        "colab": {
          "base_uri": "https://localhost:8080/"
        },
        "id": "8vsOMsPB7Zdz",
        "outputId": "6e253dc8-a7f9-4358-c694-ce9b15c3a791"
      },
      "source": [
        "###Problem-2_b\n",
        "class Area_Rec:\n",
        "  def __init__(self): # with default constructor\n",
        "    self.len=int(input(\"entre the lenth : \"))\n",
        "    self.bredth= int(input(\"enter the bredth : \"))\n",
        "    if (self.len > self.bredth):\n",
        "      area=(self.len * self.bredth)\n",
        "      print(\"area = \",area)\n",
        "    else:\n",
        "      print(\"it is not a rectangle:\")\n",
        "rec_1 = Area_Rec() # NO parameter\n",
        " \n"
      ],
      "execution_count": 17,
      "outputs": [
        {
          "output_type": "stream",
          "name": "stdout",
          "text": [
            "entre the lenth : 7\n",
            "enter the bredth : 3\n",
            "area =  21\n"
          ]
        }
      ]
    },
    {
      "cell_type": "code",
      "metadata": {
        "colab": {
          "base_uri": "https://localhost:8080/"
        },
        "id": "DMWFz8OfDbKt",
        "outputId": "89183f4a-4bbc-4214-d1f6-dc7be90aefd4"
      },
      "source": [
        "###Problem-3\n",
        "class Queue(object):\n",
        "    def __init__(self, size):\n",
        "        self.queue = []\n",
        "        self.size = size\n",
        "    def __del__(self, a):# defining destructor to each op\n",
        "        self.a=1\n",
        "        print(\"deallocate once\")\n",
        "    def __str__(self):\n",
        "        myString = ' '.join(str(i) for i in self.queue)\n",
        "        return myString\n",
        "\n",
        "    def enqueue(self, item):\n",
        "        '''This function adds an item to the rear end of the queue '''\n",
        "        if(self.isFull() != True):\n",
        "            self.queue.insert(0, item)\n",
        "        else:\n",
        "            print('Queue is Full!')\n",
        "    def __del__(self):# defining destructor to each op\n",
        "        print(\"deallocate memory after enqueue\")\n",
        "    def dequeue(self):\n",
        "        ''' This function removes an item from the front end of the queue '''\n",
        "        if(self.isEmpty() != True):\n",
        "            return self.queue.pop()\n",
        "        else:\n",
        "            print('Queue is Empty!')\n",
        "\n",
        "    def isEmpty(self):\n",
        "        ''' This function checks if the queue is empty '''\n",
        "        return self.queue == []\n",
        "\n",
        "    def isFull(self):\n",
        "        ''' This function checks if the queue is full '''\n",
        "        #return len(self.queue) == self.size\n",
        "\n",
        "    def peek(self):\n",
        "        ''' This function helps to see the first element at the fron end of the queue '''\n",
        "        if(self.isEmpty() != True):\n",
        "            return self.queue[-1]\n",
        "        else:\n",
        "            print('Queue is Empty!')\n",
        "    def __del__(self): # defining destructor to each op\n",
        "        print(\"deallocate after peek operation: This statement is just to show that the destructor is working properly\")      \n",
        "\n",
        "if __name__ == '__main__':\n",
        "    myQueue = Queue(10)\n",
        "    myQueue.enqueue(4)\n",
        "    myQueue.enqueue(5)\n",
        "    myQueue.enqueue(6)\n",
        "    \n",
        "    print(myQueue)\n",
        "    \n",
        "    myQueue.enqueue(1)\n",
        "    myQueue.enqueue(2)\n",
        "    myQueue.enqueue(3)\n",
        "    \n",
        "    print(myQueue)\n",
        "    \n",
        "    myQueue.dequeue()\n",
        "    \n",
        "    print(myQueue)\n",
        "del()# callling Destructor explicitly: If distructor is not defined or not called explicitly then python default deallocates the memory but at the end of program.\n",
        "#del()"
      ],
      "execution_count": 29,
      "outputs": [
        {
          "output_type": "stream",
          "name": "stdout",
          "text": [
            "deallocate after peek operation: This statement is just to show that the destructor is working properly\n",
            "6 5 4\n",
            "3 2 1 6 5 4\n",
            "3 2 1 6 5\n"
          ]
        }
      ]
    }
  ]
}