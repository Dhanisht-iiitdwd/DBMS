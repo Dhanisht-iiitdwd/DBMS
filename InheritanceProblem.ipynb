{
  "nbformat": 4,
  "nbformat_minor": 0,
  "metadata": {
    "colab": {
      "name": "Untitled5.ipynb",
      "provenance": [],
      "authorship_tag": "ABX9TyO/clzyvAd/SzkSQ+XKu0z8",
      "include_colab_link": true
    },
    "kernelspec": {
      "name": "python3",
      "display_name": "Python 3"
    },
    "language_info": {
      "name": "python"
    }
  },
  "cells": [
    {
      "cell_type": "markdown",
      "metadata": {
        "id": "view-in-github",
        "colab_type": "text"
      },
      "source": [
        "<a href=\"https://colab.research.google.com/github/Dhanisht-iiitdwd/OOP_Python-class/blob/main/InheritanceProblem.ipynb\" target=\"_parent\"><img src=\"https://colab.research.google.com/assets/colab-badge.svg\" alt=\"Open In Colab\"/></a>"
      ]
    },
    {
      "cell_type": "code",
      "metadata": {
        "colab": {
          "base_uri": "https://localhost:8080/"
        },
        "id": "WaVVHRaRQtx6",
        "outputId": "8f028904-7e68-47a6-f4bf-ab2aa0d26089"
      },
      "source": [
        "class employ:\n",
        "    def __init__(self, name, salary):\n",
        "        self.name=name\n",
        "        self.salary=salary\n",
        "    def lpa(self,amount):\n",
        "        self.salary=amount\n",
        "        print(self.salary)\n",
        "    def moth_sal(self):\n",
        "        print(self.salary/12)\n",
        "       \n",
        "emp=employ(\"Rahul\", 60000)\n",
        "print(emp.name)\n",
        "print(emp.salary)\n",
        "emp.lpa(720000)\n",
        "emp.moth_sal()"
      ],
      "execution_count": 1,
      "outputs": [
        {
          "output_type": "stream",
          "name": "stdout",
          "text": [
            "Rahul\n",
            "60000\n",
            "720000\n",
            "60000.0\n"
          ]
        }
      ]
    },
    {
      "cell_type": "code",
      "metadata": {
        "colab": {
          "base_uri": "https://localhost:8080/"
        },
        "id": "a0w5FnBmRNDH",
        "outputId": "53cc479b-90ee-4b9c-dee8-388ccffe66db"
      },
      "source": [
        "class tata:\n",
        "    pass\n",
        "class tcs(tata):\n",
        "    pass\n",
        "print(issubclass(tcs,tata))"
      ],
      "execution_count": 2,
      "outputs": [
        {
          "output_type": "stream",
          "name": "stdout",
          "text": [
            "True\n"
          ]
        }
      ]
    },
    {
      "cell_type": "code",
      "metadata": {
        "colab": {
          "base_uri": "https://localhost:8080/"
        },
        "id": "dZIMDu6TRRHo",
        "outputId": "354a5687-9480-48cd-f1e9-616cc9d5b672"
      },
      "source": [
        "# Single-Inheritence\n",
        "class parent:\n",
        "    def show(self):\n",
        "        print(\"Parent class\")\n",
        "    def ca(self,x,y):\n",
        "        return x+y\n",
        "    # de\n",
        "class child(parent):\n",
        "    def view(self):\n",
        "        print(\"child class\")\n",
        "    def cal(self,x):\n",
        "        return x*x+2\n",
        "c=child()\n",
        "c.view()\n",
        "c.show()\n",
        "c.cal(3)\n",
        "print(c.cal(3))\n",
        "print(c.ca(3,4))"
      ],
      "execution_count": 3,
      "outputs": [
        {
          "output_type": "stream",
          "name": "stdout",
          "text": [
            "child class\n",
            "Parent class\n",
            "11\n",
            "7\n"
          ]
        }
      ]
    },
    {
      "cell_type": "code",
      "metadata": {
        "colab": {
          "base_uri": "https://localhost:8080/"
        },
        "id": "RqGV2wErRsXL",
        "outputId": "82395448-e839-45cb-ee82-60917bc40ef0"
      },
      "source": [
        "# Multilevel Inheritence\n",
        "class A():\n",
        "    def method_A(self):\n",
        "        print(\"IIITDWD\")\n",
        "class B(A): # class 'B' is inheriting 'A'\n",
        "    def method_B(self):\n",
        "        print(\"Name : Dhanisht Kumar\")\n",
        "class C(B): # Class 'C' is inheriting both 'A' and 'B'\n",
        "    def method_C(self):\n",
        "        print(\"Roll_NO : 20bcs040\")\n",
        "d=C()\n",
        "d.method_C()\n",
        "d.method_B()\n",
        "d.method_A()\n",
        "e=B()\n",
        "e.method_B()\n",
        "e.method_A()\n"
      ],
      "execution_count": 4,
      "outputs": [
        {
          "output_type": "stream",
          "name": "stdout",
          "text": [
            "Roll_NO : 20bcs040\n",
            "Name : Dhanisht Kumar\n",
            "IIITDWD\n",
            "Name : Dhanisht Kumar\n",
            "IIITDWD\n"
          ]
        }
      ]
    },
    {
      "cell_type": "code",
      "metadata": {
        "colab": {
          "base_uri": "https://localhost:8080/"
        },
        "id": "HAnvG3QaUEPM",
        "outputId": "5e5daa8f-2ef0-43b3-f172-6d7c484e4c91"
      },
      "source": [
        "# Multiple Inheritence\n",
        "class A():\n",
        "    def method_A(self):\n",
        "        print(\"What is your name ?\")\n",
        "class B():\n",
        "    def method_B(self):\n",
        "        print(\"My name is Harry\")\n",
        "class C():\n",
        "    def method_C(self):\n",
        "        print(\"where do you live ?\")\n",
        "class D(C,B,A): # Inheriting all the above three class 'A', 'B' and 'C'\n",
        "    def method_D(self):\n",
        "        print(\"I lives in Delhi\")\n",
        "R=D()\n",
        "R.method_A()\n",
        "R.method_B()\n",
        "R.method_C()\n",
        "R.method_D()"
      ],
      "execution_count": 6,
      "outputs": [
        {
          "output_type": "stream",
          "name": "stdout",
          "text": [
            "What is your name ?\n",
            "My name is Harry\n",
            "where do you live ?\n",
            "I lives in Delhi\n"
          ]
        }
      ]
    },
    {
      "cell_type": "code",
      "metadata": {
        "colab": {
          "base_uri": "https://localhost:8080/"
        },
        "id": "xCiWOxLPVT7Z",
        "outputId": "906e7e4c-7de1-4af8-8355-84be69e64cf5"
      },
      "source": [
        "# Problem-1\n",
        "class students:\n",
        "    def __init__(self):\n",
        "        pass\n",
        "    def st1(self,name1,age1,roll1):# Function to contain first student details\n",
        "        self.name1=name1\n",
        "        self.age1=age1\n",
        "        self.roll1=roll1\n",
        "        print(\"name 1st student =\",self.name1,\"\\n\",\"age 1st student =\",self.age1,\"\\n\",\n",
        "              \"roll no 1st student =\",self.roll1)\n",
        "        print(\" \")\n",
        "         \n",
        "    def st2(self,name2,age2,roll2):# Function to contain second student details\n",
        "        self.name2=name2\n",
        "        self.age2=age2\n",
        "        self.roll2=roll2\n",
        "        print(\"name 2nd student =\",self.name2,\"\\n\",\"age 2nd student =\",self.age2,\"\\n\",\n",
        "              \"roll no 2nd student =\",self.roll2)\n",
        "        print(\" \")\n",
        "         \n",
        "class comp(students): # using INHERITENCE here\n",
        "    def __init__(self):\n",
        "        pass\n",
        "    def compare(self):\n",
        "        if (self.age1==self.age2):#Function to compare age\n",
        "            print(\"Both student have equal age:\")\n",
        "        else:\n",
        "            print(\"Ages of both student is not equal:\")\n",
        "name1=input(\"enter name of 1st student:\")\n",
        "age1=int(input(\"enter age of 1st student:\"))\n",
        "roll1=input(\"enter roll_no of 1st student:\")\n",
        "name2=input(\"enter name of 2nd student:\")\n",
        "age2=int(input(\"enter age of 2nd student:\"))\n",
        "roll2=input(\"enter roll_no of 2nd student:\")\n",
        "st=comp()\n",
        "st.st1(name1, age1, roll1)\n",
        "st.st2(name2, age2, roll2)\n",
        "st.compare()"
      ],
      "execution_count": 7,
      "outputs": [
        {
          "output_type": "stream",
          "name": "stdout",
          "text": [
            "enter name of 1st student:Dhan\n",
            "enter age of 1st student:20\n",
            "enter roll_no of 1st student:34\n",
            "enter name of 2nd student:Ruch\n",
            "enter age of 2nd student:20\n",
            "enter roll_no of 2nd student:54\n",
            "name 1st student = Dhan \n",
            " age 1st student = 20 \n",
            " roll no 1st student = 34\n",
            " \n",
            "name 2nd student = Ruch \n",
            " age 2nd student = 20 \n",
            " roll no 2nd student = 54\n",
            " \n",
            "Both student have equal age:\n"
          ]
        }
      ]
    },
    {
      "cell_type": "code",
      "metadata": {
        "colab": {
          "base_uri": "https://localhost:8080/"
        },
        "id": "zqQb_RfqV_ka",
        "outputId": "b2145966-657d-41e8-ef7c-f5a79c83e15e"
      },
      "source": [
        "class Player:\n",
        "    max_pos = 10      \n",
        "    def __init__(self):\n",
        "      self.pos = 20 \n",
        "print(Player.max_pos)     \n",
        "p = Player()\n",
        "print(p.max_pos) \n",
        "print(p.pos)"
      ],
      "execution_count": 8,
      "outputs": [
        {
          "output_type": "stream",
          "name": "stdout",
          "text": [
            "10\n",
            "10\n",
            "20\n"
          ]
        }
      ]
    },
    {
      "cell_type": "code",
      "metadata": {
        "colab": {
          "base_uri": "https://localhost:8080/"
        },
        "id": "2dBUIDXkWHWc",
        "outputId": "4c8a297c-4a42-407e-8438-50134d8864dc"
      },
      "source": [
        "class employ:\n",
        "    def __init__(self, name, salary=80000):\n",
        "        self.name = name\n",
        "        self.salary = salary\n",
        "    def give_raise(self, amount):\n",
        "        self.salary += amount        \n",
        "class manager(employ):\n",
        "    def display(self):\n",
        "        print(\"manager \", self.name)\n",
        "    def __init__(self, name, salary=95000, project=None):\n",
        "        employ.__init__(self, name, salary)\n",
        "        self.project = project\n",
        "    def give_raise(self, amount, bonus=2):  \n",
        "        new_amount = amount * bonus\n",
        "        employ.give_raise(self, new_amount)   \n",
        "m = manager(\"Ram\", 80000)\n",
        "m.give_raise(2300)\n",
        "print(m.salary)   # what is the output?\n",
        "m.give_raise(1000, bonus=3.5)\n",
        "print(m.salary)"
      ],
      "execution_count": 9,
      "outputs": [
        {
          "output_type": "stream",
          "name": "stdout",
          "text": [
            "84600\n",
            "88100.0\n"
          ]
        }
      ]
    },
    {
      "cell_type": "code",
      "metadata": {
        "colab": {
          "base_uri": "https://localhost:8080/"
        },
        "id": "FVeGGKkXXD30",
        "outputId": "c133f665-7bd2-497a-e67b-fb297a1ae481"
      },
      "source": [
        "class student: \n",
        "  def __init__(self):\n",
        "    self.institute=\"IITDWD\" # Student details\n",
        "    self.name = \"Dhanisht Kumar\"\n",
        "    self.roll=\"20bcs040\"\n",
        "    self.sem=\"ODD (3rd)\"\n",
        "    self.devise = self.laptop() \n",
        "    \n",
        "  def show(self): # function to print student details\n",
        "    print(\"Institute:\",self.institute,\"\\nName:\", self.name,\"\\nRoll_No:\",\n",
        "          self.roll,\"\\nSemester:\",self.sem,\"\\n\") \n",
        "    \n",
        "  class laptop: \n",
        "     def __init__(self): # Student Laptop detail\n",
        "        self.colour=\"Mate Black\"\n",
        "        self.cpu = \"intel(R)-core(TM)_i7-cpu\"\n",
        "        self.ram = \"4GB\"\n",
        "        self.hard_disc=\"8GB\"\n",
        "        self.price=\"INR 36000\"\n",
        "     def display(self): # function to print Laptop detail\n",
        "        print(\"Laptop Colour:\",self.colour,\"\\nCpu:\", self.cpu,\"\\nRam:\", self.ram,\"\\nHard_Disc_Drive:\",self.hard_disc,\n",
        "              \"\\nPrice:\",self.price)  \n",
        "print(\"STUDENT DETAIL BELOW:\\n\") \n",
        "stu = student() # stu -> object of student class\n",
        "stu.show() \n",
        "stu_devise = stu.devise # calling inner function\n",
        "print(\"STUDENTS DEVISE DETAIL:\\n\")\n",
        "stu_devise.display() "
      ],
      "execution_count": 10,
      "outputs": [
        {
          "output_type": "stream",
          "name": "stdout",
          "text": [
            "STUDENT DETAIL BELOW:\n",
            "\n",
            "Institute: IITDWD \n",
            "Name: Dhanisht Kumar \n",
            "Roll_No: 20bcs040 \n",
            "Semester: ODD (3rd) \n",
            "\n",
            "STUDENTS DEVISE DETAIL:\n",
            "\n",
            "Laptop Colour: Mate Black \n",
            "Cpu: intel(R)-core(TM)_i7-cpu \n",
            "Ram: 4GB \n",
            "Hard_Disc_Drive: 8GB \n",
            "Price: INR 36000\n"
          ]
        }
      ]
    },
    {
      "cell_type": "code",
      "metadata": {
        "colab": {
          "base_uri": "https://localhost:8080/"
        },
        "id": "qPYcpHpOX7lj",
        "outputId": "6434e3db-80e4-465d-e45c-ad82056d9072"
      },
      "source": [
        "class My_Birth_Date:\n",
        "    def __init__(self, year, month, day):       \n",
        "      self.year=year \n",
        "      self.month=month \n",
        "      self.day= day    \n",
        "    # Defining a class method strng\n",
        "    @classmethod\n",
        "    def strng(cls, datestr):\n",
        "     \n",
        "        parts = datestr.split(\"-\")\n",
        "        year, month, day = int(parts[0]), int(parts[1]), int(parts[2])\n",
        "        return cls(year, month, day)        \n",
        "DOB = My_Birth_Date.strng('2002-10-03')   \n",
        "print(\"YEAR:\",DOB.year)\n",
        "print(\"Month:\",DOB.month)\n",
        "print(\"Day:\",DOB.day,\", Monday\")"
      ],
      "execution_count": 14,
      "outputs": [
        {
          "output_type": "stream",
          "name": "stdout",
          "text": [
            "YEAR: 2002\n",
            "Month: 10\n",
            "Day: 3 , Monday\n"
          ]
        }
      ]
    }
  ]
}