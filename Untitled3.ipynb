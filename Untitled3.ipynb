{
  "nbformat": 4,
  "nbformat_minor": 0,
  "metadata": {
    "colab": {
      "name": "Untitled3.ipynb",
      "provenance": [],
      "collapsed_sections": [],
      "authorship_tag": "ABX9TyPpokvyqh+t4PaNYKsaTgJp",
      "include_colab_link": true
    },
    "kernelspec": {
      "name": "python3",
      "display_name": "Python 3"
    },
    "language_info": {
      "name": "python"
    }
  },
  "cells": [
    {
      "cell_type": "markdown",
      "metadata": {
        "id": "view-in-github",
        "colab_type": "text"
      },
      "source": [
        "<a href=\"https://colab.research.google.com/github/Dhanisht-iiitdwd/OOP_Python-class/blob/main/Untitled3.ipynb\" target=\"_parent\"><img src=\"https://colab.research.google.com/assets/colab-badge.svg\" alt=\"Open In Colab\"/></a>"
      ]
    },
    {
      "cell_type": "code",
      "metadata": {
        "id": "RokzbId_9y9K",
        "colab": {
          "base_uri": "https://localhost:8080/"
        },
        "outputId": "5f9d2dad-49f3-4627-b6e7-4e3094f21359"
      },
      "source": [
        "#Problem-1\n",
        "year=int(input(\"enter the year:\"))\n",
        "if (year%4==0 or year%400==0 and year%100!=0):\n",
        "  print(year,\"is a leap year:\", True)\n",
        "else:\n",
        "  print(year,\"is not a leap year and:\", False)\n"
      ],
      "execution_count": 38,
      "outputs": [
        {
          "output_type": "stream",
          "name": "stdout",
          "text": [
            "enter the year:2024\n",
            "2024 is a leap year: True\n"
          ]
        }
      ]
    },
    {
      "cell_type": "code",
      "metadata": {
        "colab": {
          "base_uri": "https://localhost:8080/"
        },
        "id": "J2O_rZ4H_6XL",
        "outputId": "133ec4e0-dacf-4bb8-c86d-e562e6203fac"
      },
      "source": [
        "# Problem-2 \n",
        "n=int(input(\"enter the n:\"))\n",
        "if n%2!=0:\n",
        "  print(\"Weird\")\n",
        "\n",
        "\n"
      ],
      "execution_count": 39,
      "outputs": [
        {
          "output_type": "stream",
          "name": "stdout",
          "text": [
            "enter the n:7\n",
            "Weird\n"
          ]
        }
      ]
    },
    {
      "cell_type": "code",
      "metadata": {
        "colab": {
          "base_uri": "https://localhost:8080/"
        },
        "id": "M-vf8OvCGh2m",
        "outputId": "393e2171-8d4d-4ab7-d1e9-1997737a4cf1"
      },
      "source": [
        "# Problem-2 \n",
        "list1=[2,3,4,5] \n",
        "i=int(input(\"enter the i:\"))\n",
        "if i in list1:\n",
        "    if (i%2==0):\n",
        "        print(\"Not Weird\")\n",
        "    else:\n",
        "        print(\"it is not divisible by two\")\n",
        "else:\n",
        "  print(\"Given input not in list1, invalid input\")\n",
        "   \n"
      ],
      "execution_count": 40,
      "outputs": [
        {
          "output_type": "stream",
          "name": "stdout",
          "text": [
            "enter the i:4\n",
            "Not Weird\n"
          ]
        }
      ]
    },
    {
      "cell_type": "code",
      "metadata": {
        "colab": {
          "base_uri": "https://localhost:8080/"
        },
        "id": "jTYEnhGpPcRv",
        "outputId": "18127bdd-d82b-4a63-b707-8441f8adb366"
      },
      "source": [
        "# Problem-2 \n",
        "list1=[6,7,8,9,10,11,12,13,14,15,16,17,18,19,20]\n",
        "i=int(input(\"enter the i:\"))\n",
        "if i in list1:\n",
        "    if (i%2==0):\n",
        "        print(\"Weird\")\n",
        "    else:\n",
        "        print(\"it is not divisible by two\")\n",
        "else:\n",
        "  print(\"Given input not in list1, invalid input\")"
      ],
      "execution_count": 41,
      "outputs": [
        {
          "output_type": "stream",
          "name": "stdout",
          "text": [
            "enter the i:18\n",
            "Weird\n"
          ]
        }
      ]
    },
    {
      "cell_type": "code",
      "metadata": {
        "colab": {
          "base_uri": "https://localhost:8080/"
        },
        "id": "iyx1xcCfTeZ-",
        "outputId": "751b8c01-30a6-4ddf-a986-1674d728e080"
      },
      "source": [
        "# Problem-2 \n",
        "n=int(input(\"enter the n:\"))\n",
        "if (n>20 and n%2==0):\n",
        "  print(\"Weird\")\n",
        "else:\n",
        "  print(\"invalid input\")\n"
      ],
      "execution_count": 42,
      "outputs": [
        {
          "output_type": "stream",
          "name": "stdout",
          "text": [
            "enter the n:32\n",
            "Weird\n"
          ]
        }
      ]
    },
    {
      "cell_type": "code",
      "metadata": {
        "colab": {
          "base_uri": "https://localhost:8080/"
        },
        "id": "Fb0ohugatQtQ",
        "outputId": "51e318e1-f53a-4312-d1e3-b4544d6342af"
      },
      "source": [
        "# Problem-3\n",
        "list1=[\"anand\",\"barun\",\"shaili\",\"dhanisht\",\"phumy\",\"marry\",\"gopal\",\"harry\",\"kishan\"]\n",
        "print(list1)\n",
        "l=list1.index(\"anand\") # lower = 0\n",
        "h=list1.index(\"kishan\") # higher = 8\n",
        "mid=(l+h)//2 # mid = 4, half of the list\n",
        "print(\"mid = \",mid) \n",
        "print(\"All the guest who is fashinable late is:\")# The guest coming at least after the mid\n",
        "for i in range(mid, h, 1):\n",
        "    fashinable_late_guest = list1.pop(mid)\n",
        "    print(fashinable_late_guest)\n",
        "\n",
        "   \n"
      ],
      "execution_count": 30,
      "outputs": [
        {
          "output_type": "stream",
          "name": "stdout",
          "text": [
            "['anand', 'barun', 'shaili', 'dhanisht', 'phumy', 'marry', 'gopal', 'harry', 'kishan']\n",
            "mid =  4\n",
            "All the guest who is fashinable late is:\n",
            "phumy\n",
            "marry\n",
            "gopal\n",
            "harry\n"
          ]
        }
      ]
    },
    {
      "cell_type": "code",
      "metadata": {
        "colab": {
          "base_uri": "https://localhost:8080/"
        },
        "id": "658ogLXz8t9h",
        "outputId": "98998626-1cd0-4bca-d0d3-3098ebab4097"
      },
      "source": [
        "#Problem-4\n",
        "def word_search(list1, keyword):\n",
        "     \n",
        "    keyword = keyword.lower().strip('.,')# we are making lowercase and removing punctuation\n",
        "\n",
        "    result_list = []\n",
        "    for i, title in enumerate(list1): # using \"enumerate\" fir iteration\n",
        "         \n",
        "        words = title.lower().strip('.,').split()# we are making lowercase and removing punctuation, and then spliting into words\n",
        "\n",
        "        if keyword in words:\n",
        "            result_list.append((i, title))\n",
        "\n",
        "    return result_list\n",
        "\n",
        "if __name__ == '__main__': # this is used to execute some code only if file was run directly, and not imported.\n",
        "    doc = [\n",
        "        'The Learn Python Challenge Dhanisht',\n",
        "        'Ruchi bought a book, and a pen',\n",
        "        'Dhanisht is a student at IIITDWD.',\n",
        "        'Dhanisht completed, you did?',\n",
        "    ]\n",
        "    w = 'Dhanisht'\n",
        "\n",
        "    print(word_search(doc, w)) # will print index and sentence in which \"Dhanisht\" is involved"
      ],
      "execution_count": 31,
      "outputs": [
        {
          "output_type": "stream",
          "name": "stdout",
          "text": [
            "[(0, 'The Learn Python Challenge Dhanisht'), (2, 'Dhanisht is a student at IIITDWD.'), (3, 'Dhanisht completed, you did?')]\n"
          ]
        }
      ]
    },
    {
      "cell_type": "code",
      "metadata": {
        "colab": {
          "base_uri": "https://localhost:8080/"
        },
        "id": "TKbIzm_dy7xX",
        "outputId": "d0fdf501-9207-43f0-eec6-3a6cc552c201"
      },
      "source": [
        "#Problem-5\n",
        "def gross_pay(BP):\n",
        "  DA = BP*0.4\n",
        "  HRA = BP*0.2\n",
        "  GP = BP+DA+HRA\n",
        "  return GP\n",
        "BP=float(input(\"enter the basic pay of employee:\"))\n",
        "gross_pay(BP)\n"
      ],
      "execution_count": 33,
      "outputs": [
        {
          "name": "stdout",
          "output_type": "stream",
          "text": [
            "enter the basic pay of employee:100000\n"
          ]
        },
        {
          "output_type": "execute_result",
          "data": {
            "text/plain": [
              "160000.0"
            ]
          },
          "metadata": {},
          "execution_count": 33
        }
      ]
    }
  ]
}