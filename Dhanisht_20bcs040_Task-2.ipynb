{
  "nbformat": 4,
  "nbformat_minor": 0,
  "metadata": {
    "colab": {
      "name": "Untitled4.ipynb",
      "provenance": [],
      "collapsed_sections": [],
      "authorship_tag": "ABX9TyNH+5/9fOANztTOszDxMI1x",
      "include_colab_link": true
    },
    "kernelspec": {
      "name": "python3",
      "display_name": "Python 3"
    },
    "language_info": {
      "name": "python"
    }
  },
  "cells": [
    {
      "cell_type": "markdown",
      "metadata": {
        "id": "view-in-github",
        "colab_type": "text"
      },
      "source": [
        "<a href=\"https://colab.research.google.com/github/Dhanisht-iiitdwd/OOP_Python-class/blob/main/Dhanisht_20bcs040_Task-2.ipynb\" target=\"_parent\"><img src=\"https://colab.research.google.com/assets/colab-badge.svg\" alt=\"Open In Colab\"/></a>"
      ]
    },
    {
      "cell_type": "code",
      "metadata": {
        "colab": {
          "base_uri": "https://localhost:8080/"
        },
        "id": "2jvhCp79enuS",
        "outputId": "3941cd35-e9b8-4238-bf20-07f210c32d09"
      },
      "source": [
        "#Problem-1\n",
        "class circle:\n",
        "\n",
        "  def __init__(self):\n",
        "    self.circle=\"round\"\n",
        "  def area_circle(self, r):\n",
        "    area=(22/7)*(r**2)\n",
        "    print(\"area = \",area)\n",
        "  def perimeter_circle(self, r):\n",
        "    perimeter=2*(22/7)*r\n",
        "    print(\"perimeter = \",perimeter)\n",
        "c=circle()\n",
        "radius=float(input(\"enter radius of circle:\"))\n",
        "print(c.circle)\n",
        "c.area_circle(radius)\n",
        "c.perimeter_circle(radius)"
      ],
      "execution_count": null,
      "outputs": [
        {
          "output_type": "stream",
          "name": "stdout",
          "text": [
            "enter radius of circle:4\n",
            "round\n",
            "area =  50.285714285714285\n",
            "perimeter =  25.142857142857142\n"
          ]
        }
      ]
    },
    {
      "cell_type": "code",
      "metadata": {
        "id": "U-IzqyNbjl31",
        "colab": {
          "base_uri": "https://localhost:8080/"
        },
        "outputId": "e843bf8e-43c1-4787-a70f-135f74bff616"
      },
      "source": [
        "#Problem-2\n",
        "class teacher:\n",
        "    def __init__(self, name,emp_id, branch,salary):\n",
        "        self.name=name\n",
        "        self.emp_id=emp_id\n",
        "        self.branch=branch\n",
        "        self.salary=salary\n",
        "name_list=[\"Dhanisht\",\"Sneha\",\"Rajan\",\"Ruchi\",\"Harry\",\"Marry\",\"Bosch\",\"Andrew\",\"Anna\",\"Raj\"]\n",
        "emp_id_list=[\"cs01\",\"Ma02\",\"ec03\",\"ph04\",\"ds05\",\"oop06\",\"da07\",\"ca08\",\"eng09\",\"che010\"]\n",
        "branch_list=[\"CSE_depart\",\"Math_depart\",\"ECE_depart\",\"Physics_depart\",\"DS_depart\",\n",
        "             \"OOP_depart\",\"DAA_depart\",\"CA_depart\",\"English_depart\",\"Chemistry_depart\"]\n",
        "salary_list=[80000,60000,40000,50000,30000,35000,45000,55000,65500,40500]\n",
        "for i in range(10):\n",
        "    ci=teacher(name_list[i], emp_id_list[i], branch_list[i], salary_list[i])\n",
        "    print(\"name -\",ci.name,\"\\n\",\"emp_id-\",ci.emp_id,\"\\n\",\"branch-\",ci.branch,\"\\n\",\"salary-\",ci.salary)\n",
        "    print(\" \") \n"
      ],
      "execution_count": null,
      "outputs": [
        {
          "output_type": "stream",
          "name": "stdout",
          "text": [
            "name - Dhanisht \n",
            " emp_id- cs01 \n",
            " branch- CSE_depart \n",
            " salary- 80000\n",
            " \n",
            "name - Sneha \n",
            " emp_id- Ma02 \n",
            " branch- Math_depart \n",
            " salary- 60000\n",
            " \n",
            "name - Rajan \n",
            " emp_id- ec03 \n",
            " branch- ECE_depart \n",
            " salary- 40000\n",
            " \n",
            "name - Ruchi \n",
            " emp_id- ph04 \n",
            " branch- Physics_depart \n",
            " salary- 50000\n",
            " \n",
            "name - Harry \n",
            " emp_id- ds05 \n",
            " branch- DS_depart \n",
            " salary- 30000\n",
            " \n",
            "name - Marry \n",
            " emp_id- oop06 \n",
            " branch- OOP_depart \n",
            " salary- 35000\n",
            " \n",
            "name - Bosch \n",
            " emp_id- da07 \n",
            " branch- DAA_depart \n",
            " salary- 45000\n",
            " \n",
            "name - Andrew \n",
            " emp_id- ca08 \n",
            " branch- CA_depart \n",
            " salary- 55000\n",
            " \n",
            "name - Anna \n",
            " emp_id- eng09 \n",
            " branch- English_depart \n",
            " salary- 65500\n",
            " \n",
            "name - Raj \n",
            " emp_id- che010 \n",
            " branch- Chemistry_depart \n",
            " salary- 40500\n",
            " \n"
          ]
        }
      ]
    },
    {
      "cell_type": "code",
      "metadata": {
        "colab": {
          "base_uri": "https://localhost:8080/"
        },
        "id": "8mxfzDh0Pp77",
        "outputId": "3182456c-077a-4baf-fe06-3b5d8927341f"
      },
      "source": [
        "# Problem-3\n",
        "class acount:\n",
        "    def __init__(self, acount_no, acount_holder_name, amount):\n",
        "        self.acount_no=acount_no # Taking all data from user:\n",
        "        self.acount_holder_name=acount_holder_name\n",
        "        self.amount=amount\n",
        "    def deposite(self, money_deposite):\n",
        "        self.amount=amount+money_deposite\n",
        "        print(\"Amount Deposited =\",money_deposite)\n",
        "        print(\"Total amount after Deposite =\",self.amount)\n",
        "        print(\" \")\n",
        "    def withdraw(self,money_withdraw):\n",
        "        self.amount=amount-money_withdraw\n",
        "        print(\"Amount withdraw =\",money_withdraw)\n",
        "        print(\"Total amount withdraw =\",self.amount)\n",
        "        print(\" \")\n",
        "    def check_balance(self, amount):\n",
        "        print(\"Net blance is: \",self.amount)\n",
        "    def display_ac_detail(self, acount_no, acount_holder_name, amount):\n",
        "        print(\"Account holder name :\",acount_holder_name,\"\\n\",\"Account no :\",acount_no,\n",
        "              \"\\n\",\"Net Amount initially :\",amount)\n",
        "        print(\" \")\n",
        "acount_holder_name=input(\"Enter A/C holder name :\")\n",
        "acount_no=int(input(\"Enter the A/C no :\"))\n",
        "amount=int(input(\"Enter the amount :\"))\n",
        "money_deposite=int(input(\"Enter the amount that the Person Deposited :\"))\n",
        "money_withdraw=int(input(\"Enter the amount that the Person credited :\"))\n",
        "person=acount(acount_no, acount_holder_name, amount)\n",
        "person.display_ac_detail(acount_no, acount_holder_name, amount) # calling func to display A/C detail\n",
        "person.deposite(money_deposite) # calling deposite function\n",
        "person.withdraw(money_withdraw) # calling withdraw function\n",
        "person.check_balance(amount)"
      ],
      "execution_count": null,
      "outputs": [
        {
          "output_type": "stream",
          "name": "stdout",
          "text": [
            "Enter A/C holder name :Raushan Jha\n",
            "Enter the A/C no :537263473847\n",
            "Enter the amount :75000\n",
            "Enter the amount that the Person Deposited :12000\n",
            "Enter the amount that the Person credited :25000\n",
            "Account holder name : Raushan Jha \n",
            " Account no : 537263473847 \n",
            " Net Amount initially : 75000\n",
            " \n",
            "Amount Deposited = 12000\n",
            "Total amount after Deposite = 87000\n",
            " \n",
            "Amount withdraw = 25000\n",
            "Total amount withdraw = 50000\n",
            " \n",
            "Net blance is:  50000\n"
          ]
        }
      ]
    },
    {
      "cell_type": "code",
      "metadata": {
        "id": "mNmM0fWhmebN",
        "colab": {
          "base_uri": "https://localhost:8080/"
        },
        "outputId": "ca5b8246-94fe-439d-ecad-b53e526851d0"
      },
      "source": [
        "#Problem-4\n",
        "class student:\n",
        "    def __init__(self):\n",
        "        pass\n",
        "    def display(self, name, reg_no, marks):\n",
        "        self.name=name\n",
        "        self.reg_no=reg_no\n",
        "        self.marks=marks\n",
        "        print(\"name =\",self.name)\n",
        "        print(\"reg no =\",self.reg_no)\n",
        "        print(\"marks list =\",self.marks)\n",
        "marks=[]\n",
        "name=input(\"Enter the name of student:\")\n",
        "reg_no=input(\"Enter registration number:\")\n",
        "math_marks=int(input(\"Enter the math marks:\"))\n",
        "physics_marks=int(input(\"Enter the physics marks:\"))\n",
        "chemistry_marks=int(input(\"Enter the chemistry marks:\"))\n",
        "m=marks.append(math_marks) \n",
        "p=marks.append(physics_marks) \n",
        "c=marks.append(chemistry_marks)\n",
        "st=student()\n",
        "st.display(name, reg_no, marks) "
      ],
      "execution_count": null,
      "outputs": [
        {
          "output_type": "stream",
          "name": "stdout",
          "text": [
            "Enter the name of student:Dhanisht\n",
            "Enter registration number:20bcs040\n",
            "Enter the math marks:100\n",
            "Enter the physics marks:99\n",
            "Enter the chemistry marks:94\n",
            "name = Dhanisht\n",
            "reg no = 20bcs040\n",
            "marks list = [100, 99, 94]\n"
          ]
        }
      ]
    },
    {
      "cell_type": "code",
      "metadata": {
        "colab": {
          "base_uri": "https://localhost:8080/"
        },
        "id": "cNcEVC7-kNw6",
        "outputId": "c9bc3e76-88dc-460d-ea9a-d72d2ea50754"
      },
      "source": [
        "# Problem - 5\n",
        "class hospital:\n",
        "    def __init__(self,name,entry_date,symptom_list,oxy_level,discharge_date):\n",
        "        self.name=name\n",
        "        self.entry_date=entry_date\n",
        "        self.symptom_list=symptom_list\n",
        "        self.oxy_level=oxy_level\n",
        "        self.discharge_date=discharge_date\n",
        "    def patent_detail(self,patient_nam,age,address,contact_info):\n",
        "        print(\"Address and Contact info of patient:\\n\")\n",
        "        self.patient_name=patient_name\n",
        "        self.age=age\n",
        "        self.address=address\n",
        "        self.contact_info=contact_info\n",
        "        print(\"patient name =>\",self.patient_name,\"\\n\",\"patient age =>\",self.age,\"\\n\",\n",
        "              \"patient address =>\",self.address,\"\\n\",\"patient contact no =>\",self.contact_info)\n",
        "    def comp(self,oxy_level):\n",
        "        if (self.oxy_level<90):\n",
        "            print(\"put them on the ventileter:\")\n",
        "        else:\n",
        "            print(\"They can go to general ward:\")\n",
        "symptom_list=[]\n",
        "name=input(\"enter the name of patient:\")\n",
        "entry_date=input(\"enter the entry date:\")\n",
        "s1=input(\"enter 1st symptom:\")\n",
        "s2=input(\"enter 2nd symptom:\")\n",
        "s3=input(\"enter 3rd symptom:\")\n",
        "s4=input(\"enter 4th symptom:\")\n",
        "s5=input(\"enter 5th symptom:\")\n",
        "sym1=symptom_list.append(s1)\n",
        "sym2=symptom_list.append(s2)\n",
        "sym3=symptom_list.append(s3)\n",
        "sym4=symptom_list.append(s4)\n",
        "sym5=symptom_list.append(s5)\n",
        "oxy_level=int(input(\"enter the oxygen level:\"))\n",
        "discharge_date=input(\"entre the discharge date(expected):\")\n",
        "patient_name=name\n",
        "age=int(input(\"enter the age of patient:\"))\n",
        "address=input(\"enter the adress of patient:\")\n",
        "contact_info=input(\"entre the contact info:\")\n",
        "print(\"Patient Detail:\\n\")\n",
        "pt=hospital(name, entry_date, symptom_list, oxy_level, discharge_date)\n",
        "print(\"patient name =>\",pt.name)\n",
        "print(\"Entry date =>\",pt.entry_date)\n",
        "print(\"Symptoms he has =>\",pt.symptom_list)\n",
        "print(\"Oxygen level of patient =>\",oxy_level)\n",
        "print(\"Expected discharge date =>\",discharge_date)\n",
        "print(\" \")\n",
        "pt.patent_detail(patient_name, age, address, contact_info)\n",
        "pt.comp(oxy_level)"
      ],
      "execution_count": null,
      "outputs": [
        {
          "output_type": "stream",
          "name": "stdout",
          "text": [
            "enter the name of patient:Rahul Mehta\n",
            "enter the entry date:25/04/2021\n",
            "enter 1st symptom:Fever\n",
            "enter 2nd symptom:Cough\n",
            "enter 3rd symptom:Throat Pain\n",
            "enter 4th symptom:Headache\n",
            "enter 5th symptom:Body Pain\n",
            "enter the oxygen level:93\n",
            "entre the discharge date(expected):10/05/2021\n",
            "enter the age of patient:34\n",
            "enter the adress of patient:Radhaur, Sursand, Sitamarhi, Bihar 843331\n",
            "entre the contact info:8809456327\n",
            "Patient Detail:\n",
            "\n",
            "patient name => Rahul Mehta\n",
            "Entry date => 25/04/2021\n",
            "Symptoms he has => ['Fever', 'Cough', 'Throat Pain', 'Headache', 'Body Pain']\n",
            "Oxygen level of patient => 93\n",
            "Expected discharge date => 10/05/2021\n",
            " \n",
            "Address and Contact info of patient:\n",
            "\n",
            "patient name => Rahul Mehta \n",
            " patient age => 34 \n",
            " patient address => Radhaur, Sursand, Sitamarhi, Bihar 843331 \n",
            " patient contact no => 8809456327\n",
            "They can go to general ward:\n"
          ]
        }
      ]
    },
    {
      "cell_type": "code",
      "metadata": {
        "colab": {
          "base_uri": "https://localhost:8080/"
        },
        "id": "BIsAeqiIcDTR",
        "outputId": "c176d676-1fcf-471b-839e-80076e399fed"
      },
      "source": [
        "# Problem-6\n",
        "class time:\n",
        "    def __init__(self):\n",
        "        self.hr=0 # In this constructor initializing the values to Zero \"0\"\n",
        "        self.mi=0\n",
        "        self.sec=0\n",
        "    def __init__(self,hr,mi,sec):# In this constructor initializing by a fix value\n",
        "        self.hr=hr # taking fix value of time from user:\n",
        "        self.mi=mi\n",
        "        self.sec=sec\n",
        "    def display(self,hr,mi,sec):\n",
        "        print(\"time = \",hr,\":\",mi,\":\",sec)\n",
        "hr=input(\"enter hour hand:\") # taking fix value of time from user\n",
        "mi=input(\"enter minute hand:\")\n",
        "sec=input(\"enter second :\")\n",
        "t1=time(hr, mi, sec)\n",
        "t1.display(hr, mi, sec) # calling display function to print updated time"
      ],
      "execution_count": null,
      "outputs": [
        {
          "output_type": "stream",
          "name": "stdout",
          "text": [
            "enter hour hand:7\n",
            "enter minute hand:34\n",
            "enter second :56\n",
            "time =  7 : 34 : 56\n"
          ]
        }
      ]
    },
    {
      "cell_type": "code",
      "metadata": {
        "colab": {
          "base_uri": "https://localhost:8080/"
        },
        "id": "4JJJJrRYM4Fj",
        "outputId": "ad75451a-8522-4e0e-faf7-806c53769a65"
      },
      "source": [
        "#Problem-7\n",
        "class students:\n",
        "    def __init__(self):\n",
        "        pass\n",
        "    def st1(self,name1,age1,roll1):# Function to contain first student details\n",
        "        self.name1=name1\n",
        "        self.age1=age1\n",
        "        self.roll1=roll1\n",
        "        print(\"name 1st student =\",self.name1,\"\\n\",\"age 1st student =\",self.age1,\"\\n\",\n",
        "              \"roll no 1st student =\",self.roll1)\n",
        "        print(\" \")\n",
        "         \n",
        "    def st2(self,name2,age2,roll2):# Function to contain second student details\n",
        "        self.name2=name2\n",
        "        self.age2=age2\n",
        "        self.roll2=roll2\n",
        "        print(\"name 2nd student =\",self.name2,\"\\n\",\"age 2nd student =\",self.age2,\"\\n\",\n",
        "              \"roll no 2nd student =\",self.roll2)\n",
        "        print(\" \")\n",
        "         \n",
        "class comp(students): # using INHERITENCE here\n",
        "    def __init__(self):\n",
        "        pass\n",
        "    def compare(self):\n",
        "        if (self.age1==self.age2):#Function to compare age\n",
        "            print(\"Both student have equal age:\")\n",
        "        else:\n",
        "            print(\"Ages of both student is not equal:\")\n",
        "name1=input(\"enter name of 1st student:\")\n",
        "age1=int(input(\"enter age of 1st student:\"))\n",
        "roll1=input(\"enter roll_no of 1st student:\")\n",
        "name2=input(\"enter name of 2nd student:\")\n",
        "age2=int(input(\"enter age of 2nd student:\"))\n",
        "roll2=input(\"enter roll_no of 2nd student:\")\n",
        "st=comp()\n",
        "st.st1(name1, age1, roll1)\n",
        "st.st2(name2, age2, roll2)\n",
        "st.compare()"
      ],
      "execution_count": null,
      "outputs": [
        {
          "output_type": "stream",
          "name": "stdout",
          "text": [
            "enter name of 1st student:Dhanisht\n",
            "enter age of 1st student:20\n",
            "enter roll_no of 1st student:20bcs040\n",
            "enter name of 2nd student:Rahul\n",
            "enter age of 2nd student:20\n",
            "enter roll_no of 2nd student:20bds122\n",
            "name 1st student = Dhanisht \n",
            " age 1st student = 20 \n",
            " roll no 1st student = 20bcs040\n",
            " \n",
            "name 2nd student = Rahul \n",
            " age 2nd student = 20 \n",
            " roll no 2nd student = 20bds122\n",
            " \n",
            "Both student have equal age:\n"
          ]
        }
      ]
    },
    {
      "cell_type": "code",
      "metadata": {
        "colab": {
          "base_uri": "https://localhost:8080/"
        },
        "id": "ppeuRm2lA9lY",
        "outputId": "6715b0b1-f386-4be2-8081-404929289bc6"
      },
      "source": [
        "#Problem-8\n",
        "class student:\n",
        "    institute=input(\"enter the name of institute:\") # defining class variable\n",
        "    sem=input(\"enter the semester:\") # defining class variable\n",
        "    def __init__(self,name_list,usn_list):\n",
        "        self.name_list=name_list # defining instance variable\n",
        "        self.usn_list=usn_list   # defining instance variable\n",
        "name_list=[\"Dhaisht\",\"Ruchi\",\"Rohit\",\"Sahul\",\"Harry\",\"Ken\",\"Mary\",\"Punit\",\"Mikel\",\"Jopes\"]\n",
        "usn_list=[\"20bcs040\",\"20bcs041\",\"20bcs042\",\"20bcs043\",\"20bcs044\",\"20bcs045\",\"20bcs046\",\n",
        "          \"20bcs047\",\"20bcs048\",\"20bcs049\"]\n",
        "st=student(name_list, usn_list)\n",
        "print(\"Student details:\\n\")\n",
        "for i in range(len(name_list)):\n",
        "    print(\"Student Name =>\",st.name_list[i],\"\\n\",\"Student USN =>\",st.usn_list[i])#calling instance variable by object (like st.name_list,st.usn_list):\n",
        "    print(\"Institute =>\",student.institute,\"\\n\",\"Semester =>\",student.sem)#calling class variable by class name (like student.instittute, student.sem ), \n",
        "    # class variable same for all student of this class: \n",
        "    print(\" \")\n"
      ],
      "execution_count": null,
      "outputs": [
        {
          "output_type": "stream",
          "name": "stdout",
          "text": [
            "enter the name of institute:IIITDWD\n",
            "enter the semester:ODD (3rd)\n",
            "Student details:\n",
            "\n",
            "Student Name => Dhaisht \n",
            " Student USN => 20bcs040\n",
            "Institute => IIITDWD \n",
            " Semester => ODD (3rd)\n",
            " \n",
            "Student Name => Ruchi \n",
            " Student USN => 20bcs041\n",
            "Institute => IIITDWD \n",
            " Semester => ODD (3rd)\n",
            " \n",
            "Student Name => Rohit \n",
            " Student USN => 20bcs042\n",
            "Institute => IIITDWD \n",
            " Semester => ODD (3rd)\n",
            " \n",
            "Student Name => Sahul \n",
            " Student USN => 20bcs043\n",
            "Institute => IIITDWD \n",
            " Semester => ODD (3rd)\n",
            " \n",
            "Student Name => Harry \n",
            " Student USN => 20bcs044\n",
            "Institute => IIITDWD \n",
            " Semester => ODD (3rd)\n",
            " \n",
            "Student Name => Ken \n",
            " Student USN => 20bcs045\n",
            "Institute => IIITDWD \n",
            " Semester => ODD (3rd)\n",
            " \n",
            "Student Name => Mary \n",
            " Student USN => 20bcs046\n",
            "Institute => IIITDWD \n",
            " Semester => ODD (3rd)\n",
            " \n",
            "Student Name => Punit \n",
            " Student USN => 20bcs047\n",
            "Institute => IIITDWD \n",
            " Semester => ODD (3rd)\n",
            " \n",
            "Student Name => Mikel \n",
            " Student USN => 20bcs048\n",
            "Institute => IIITDWD \n",
            " Semester => ODD (3rd)\n",
            " \n",
            "Student Name => Jopes \n",
            " Student USN => 20bcs049\n",
            "Institute => IIITDWD \n",
            " Semester => ODD (3rd)\n",
            " \n"
          ]
        }
      ]
    },
    {
      "cell_type": "code",
      "metadata": {
        "colab": {
          "base_uri": "https://localhost:8080/"
        },
        "id": "h1qL_b0t-bPi",
        "outputId": "3b78142f-b395-4209-d85f-22ab62131dce"
      },
      "source": [
        "# Problem-9\n",
        "class student: \n",
        "  def __init__(self):\n",
        "    self.institute=\"IITDWD\" # Student details\n",
        "    self.name = \"Dhanisht Kumar\"\n",
        "    self.roll=\"20bcs040\"\n",
        "    self.sem=\"ODD (3rd)\"\n",
        "    self.devise = self.laptop() \n",
        "    \n",
        "  def show(self): # function to print student details\n",
        "    print(\"Institute:\",self.institute,\"\\nName:\", self.name,\"\\nRoll_No:\",\n",
        "          self.roll,\"\\nSemester:\",self.sem,\"\\n\") \n",
        "    \n",
        "  class laptop: \n",
        "     def __init__(self): # Student Laptop detail\n",
        "        self.colour=\"Mate Black\"\n",
        "        self.cpu = \"intel(R)-core(TM)_i7-cpu\"\n",
        "        self.ram = \"4GB\"\n",
        "        self.hard_disc=\"8GB\"\n",
        "        self.price=\"INR 36000\"\n",
        "     def display(self): # function to print Laptop detail\n",
        "        print(\"Laptop Colour:\",self.colour,\"\\nCpu:\", self.cpu,\"\\nRam:\", self.ram,\"\\nHard_Disc_Drive:\",self.hard_disc,\n",
        "              \"\\nPrice:\",self.price)  \n",
        "print(\"STUDENT DETAIL BELOW:\\n\") \n",
        "stu = student() # stu -> object of student class\n",
        "stu.show() \n",
        "stu_devise = stu.devise # calling inner function\n",
        "print(\"STUDENTS DEVISE DETAIL:\\n\")\n",
        "stu_devise.display() \n"
      ],
      "execution_count": 3,
      "outputs": [
        {
          "output_type": "stream",
          "name": "stdout",
          "text": [
            "STUDENT DETAIL BELOW:\n",
            "\n",
            "Institute: IITDWD \n",
            "Name: Dhanisht Kumar \n",
            "Roll_No: 20bcs040 \n",
            "Semester: ODD (3rd) \n",
            "\n",
            "STUDENTS DEVISE DETAIL:\n",
            "\n",
            "Laptop Colour: Mate Black \n",
            "Cpu: intel(R)-core(TM)_i7-cpu \n",
            "Ram: 4GB \n",
            "Hard_Disc_Drive: 8GB \n",
            "Price: INR 36000\n"
          ]
        }
      ]
    }
  ]
}