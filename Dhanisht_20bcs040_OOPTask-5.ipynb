{
  "nbformat": 4,
  "nbformat_minor": 0,
  "metadata": {
    "colab": {
      "name": "Untitled10.ipynb",
      "provenance": [],
      "authorship_tag": "ABX9TyNC4clv5/7ZYFjKazBkJulh",
      "include_colab_link": true
    },
    "kernelspec": {
      "name": "python3",
      "display_name": "Python 3"
    },
    "language_info": {
      "name": "python"
    }
  },
  "cells": [
    {
      "cell_type": "markdown",
      "metadata": {
        "id": "view-in-github",
        "colab_type": "text"
      },
      "source": [
        "<a href=\"https://colab.research.google.com/github/Dhanisht-iiitdwd/OOP_Python-class/blob/main/Dhanisht_20bcs040_OOPTask-5.ipynb\" target=\"_parent\"><img src=\"https://colab.research.google.com/assets/colab-badge.svg\" alt=\"Open In Colab\"/></a>"
      ]
    },
    {
      "cell_type": "code",
      "metadata": {
        "colab": {
          "base_uri": "https://localhost:8080/"
        },
        "id": "DV67jivImxp4",
        "outputId": "bc31e5da-f900-487b-b30b-fea94fbfd8ed"
      },
      "source": [
        "### Problem - 1\n",
        "class shape: # Parent class\n",
        "    def __init__(self,shape):\n",
        "        self.shape=shape\n",
        "    def area(self): # just pass statement to use area method further in all child class\n",
        "        pass\n",
        "class square(shape):\n",
        "    def __init__(self, a):\n",
        "        shape.__init__(self, square)\n",
        "        shape.a=a\n",
        "    def area(self, a):\n",
        "        area_sqr=(self.a)**2\n",
        "        print(\"area of square=\",area_sqr)\n",
        "class rectangle(shape):\n",
        "    def __init__(self, l, b):\n",
        "        shape.__init__(self, rectangle)\n",
        "        shape.l=l\n",
        "        shape.b=b\n",
        "    def area(self, l, b):\n",
        "        area_rec=self.l * self.b\n",
        "        print(\"area of rec=\",area_rec)\n",
        "class circle(shape):\n",
        "    def __init__(self, r):\n",
        "        shape.__init__(self, circle)\n",
        "        shape.r=r\n",
        "    def area(self,r):\n",
        "        area_cir=2*3.14*(self.r)**2\n",
        "        print(\"area of circle=\",area_cir)\n",
        "a=10 # side of square\n",
        "l=8 # lenght of rec\n",
        "b=4 # bredth of rec\n",
        "r=5 # radius of circle\n",
        "S=square(a) # square class\n",
        "S.area(a)\n",
        "R=rectangle(l, b) # rectangle class\n",
        "R.area(l, b)\n",
        "C=circle(r) # circle class\n",
        "C.area(r)\n"
      ],
      "execution_count": null,
      "outputs": [
        {
          "output_type": "stream",
          "name": "stdout",
          "text": [
            "area of square= 100\n",
            "area of rec= 32\n",
            "area of circle= 157.0\n"
          ]
        }
      ]
    },
    {
      "cell_type": "code",
      "metadata": {
        "colab": {
          "base_uri": "https://localhost:8080/"
        },
        "id": "7yXYViT0w_Hk",
        "outputId": "ec7a125e-da77-4aac-fd2b-0583fa40de22"
      },
      "source": [
        "### Problem - 2\n",
        "class travel: # parent class\n",
        "    def __init__(self,travel):\n",
        "        self.travel=travel\n",
        "         \n",
        "    def fun(self,n,d): # method \n",
        "        self.__n=n # defining privately\n",
        "        self.d=d\n",
        "        pass\n",
        "class train(travel):\n",
        "     \n",
        "    def __init__(self,cost_train):\n",
        "        travel.__init__(self,train)\n",
        "        travel.cost_train=cost_train\n",
        "    def fun(self,n,d,cost_train):\n",
        "        trip_cost=n*cost_train\n",
        "        print(\"total trip cost of train=\",trip_cost)\n",
        "class bus(travel):\n",
        "    def __init__(self,cost_bus):\n",
        "        travel.__init__(self, bus)\n",
        "        travel.cost_bus=cost_bus\n",
        "    def fun(self,n,d,cost_bus):\n",
        "        trip_cost=n*cost_bus\n",
        "        print(\"total trip cost of bus =\",trip_cost)\n",
        "n=10 # no of passengers\n",
        "d=20 # distance travelled\n",
        "cost_train=60\n",
        "cost_bus=100\n",
        "p1=train(cost_train) # passenger p1 travelles in train\n",
        "p1.fun(n, d, cost_train)\n",
        "\n",
        "p2=bus(cost_bus)\n",
        "p2.fun(n, d, cost_bus)"
      ],
      "execution_count": 2,
      "outputs": [
        {
          "output_type": "stream",
          "name": "stdout",
          "text": [
            "total trip cost of train= 600\n",
            "total trip cost of bus = 1000\n"
          ]
        }
      ]
    },
    {
      "cell_type": "code",
      "metadata": {
        "colab": {
          "base_uri": "https://localhost:8080/"
        },
        "id": "B7Wm8Xdr3Ghu",
        "outputId": "f6e799e9-d8f8-4090-f404-a0ff61995f37"
      },
      "source": [
        "### Problem - 3\n",
        "class car:\n",
        "    def __init__(self,m1,m2):\n",
        "        self.m1=m1 \n",
        "        \n",
        "        self.m2=m2\n",
        "    def swap(self,m1,m2): # function to swap model no\n",
        "        temp=m1\n",
        "        m1=m2\n",
        "        m2=temp\n",
        "        print(\"after swaping model for car_1=\",m1)\n",
        "        print(\"after swaping model for car_2=\",m2)\n",
        "\n",
        "m1=input(\"enter the model of car_1=\")\n",
        "m2=input(\"enter the model of car_2=\")\n",
        "c1=car(m1, m2)\n",
        "c2=car(m1, m2)\n",
        "c1.swap(m1, m2)"
      ],
      "execution_count": 3,
      "outputs": [
        {
          "output_type": "stream",
          "name": "stdout",
          "text": [
            "enter the model of car_1=MAV1203\n",
            "enter the model of car_2=JCY4032\n",
            "after swaping model for car_1= JCY4032\n",
            "after swaping model for car_2= MAV1203\n"
          ]
        }
      ]
    }
  ]
}